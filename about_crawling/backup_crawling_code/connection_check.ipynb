{
 "cells": [
  {
   "cell_type": "code",
   "execution_count": null,
   "metadata": {},
   "outputs": [],
   "source": [
    "import pymongo\n",
    "\n",
    "# docker mongodb\n",
    "client = pymongo.MongoClient('localhost', 27017)\n",
    "db = client['http_request_meta_data']\n",
    "meta_collection = db['page_meta_data']\n",
    "\n",
    "for doc in meta_collection.find():\n",
    "    print(doc)"
   ]
  },
  {
   "cell_type": "code",
   "execution_count": null,
   "metadata": {},
   "outputs": [],
   "source": [
    "str_pass = \"url\"\n",
    "\n",
    "import pymongo\n",
    "from datetime import datetime\n",
    "# mongodb atlas\n",
    "\n",
    "client2 = pymongo.MongoClient(str_pass)\n",
    "db2 = client2['http_request_meta_data']\n",
    "meta_collection2 = db2['page_meta_data']\n",
    "\n",
    "print([j for j in meta_collection2.find()])\n",
    "\n",
    "# k = [i for i in meta_collection2.find()]\n",
    "# k[0]['timestamp_store'].date()\n",
    "default_args = {\n",
    "    'owner': 'airflow',\n",
    "    'start_date': datetime.now(),\n",
    "    'retries': 1\n",
    "}\n",
    "\n",
    "# k[0]['timestamp_store'].date() == default_args['start_date'].date()"
   ]
  },
  {
   "cell_type": "code",
   "execution_count": 60,
   "metadata": {},
   "outputs": [
    {
     "name": "stdout",
     "output_type": "stream",
     "text": [
      "True\n"
     ]
    }
   ],
   "source": [
    "import redis\n",
    "\n",
    "redis_host = 'localhost'  \n",
    "redis_port = 6379  \n",
    "\n",
    "r = redis.Redis(host = redis_host, port = redis_port, decode_responses = True)\n",
    "print(r.ping())"
   ]
  },
  {
   "cell_type": "code",
   "execution_count": 7,
   "metadata": {},
   "outputs": [],
   "source": [
    "from kafka import KafkaConsumer, TopicPartition\n",
    "from kafka.admin import KafkaAdminClient\n",
    "\n",
    "brokers = [\"localhost:9091\", \"localhost:9092\", \"localhost:9093\"]\n",
    "\n",
    "admin_client = KafkaAdminClient(bootstrap_servers = brokers)\n",
    "\n",
    "consumer = KafkaConsumer(\n",
    "    group_id = \"test\",  \n",
    "    bootstrap_servers = brokers, \n",
    "    auto_offset_reset = \"earliest\",  # offset reset\n",
    "    fetch_max_bytes = 52428800,  # max byte\n",
    "    max_poll_records = 500,  # max rec\n",
    "    value_deserializer = lambda x: x.decode('utf-8')\n",
    ")\n",
    "\n",
    "\n",
    "\n",
    "topic_list = [i for i in admin_client.list_topics() if i.startswith(\"put\")]\n",
    "message_pocket = list()\n",
    "for topics in topic_list:\n",
    "    tp = TopicPartition(topics, 0)\n",
    "    consumer.assign([tp])\n",
    "    messages = consumer.poll(timeout_ms = 1000) \n",
    "    for _, message_list in messages.items():\n",
    "        for message in message_list:\n",
    "            message_pocket.append(message.value)\n",
    "            print(f\"Received message: {message.value}\")\n",
    "    consumer.commit()\n",
    "\n",
    "consumer.close()"
   ]
  },
  {
   "cell_type": "code",
   "execution_count": 19,
   "metadata": {},
   "outputs": [
    {
     "name": "stdout",
     "output_type": "stream",
     "text": [
      "put_refrigerator_topic 냉장고\n",
      "put_notebook_topic 노트북\n"
     ]
    }
   ],
   "source": [
    "from kafka.admin import KafkaAdminClient\n",
    "\n",
    "brokers = [\"localhost:9091\", \"localhost:9092\", \"localhost:9093\"]\n",
    "\n",
    "admin_client = KafkaAdminClient(bootstrap_servers = brokers)\n",
    "\n",
    "topic_list = [i for i in admin_client.list_topics() if i.startswith(\"put\")]\n",
    "\n",
    "tag_list = [j['tag'] for j in meta_collection2.find()]\n",
    "\n",
    "# topic_list, tag_list\n",
    "\n",
    "for k, v in zip(topic_list, tag_list):\n",
    "    print(k, v)"
   ]
  },
  {
   "cell_type": "code",
   "execution_count": 3,
   "metadata": {},
   "outputs": [
    {
     "name": "stdout",
     "output_type": "stream",
     "text": [
      "{'id': '2', 'product_name': '삼성노트북 한컴오피스 증정 i7 윈도우11 가성비 사무용 대학생 인강용 광시야각 동영상 업무용 노트북추천, 그레이, 코어i7, 512GB, 16GB, WIN11 Home, NT750XGR-A71A', 'origin_price': '1349000.0', 'discount_price': '1189000.0', 'rocket': 'False', 'rating': '5.0', 'card_charge_discount_wow_only': 'False', 'coucash_payback_wow_only': '최대 50,000원 적립'}\n"
     ]
    }
   ],
   "source": [
    "import re\n",
    "\n",
    "# 주어진 문자열\n",
    "s = \"ResponseDto{id=2, product_name='삼성노트북 한컴오피스 증정 i7 윈도우11 가성비 사무용 대학생 인강용 광시야각 동영상 업무용 노트북추천, 그레이, 코어i7, 512GB, 16GB, WIN11 Home, NT750XGR-A71A', origin_price=1349000.0, discount_price=1189000.0, rocket='False', rating=5.0, card_charge_discount_wow_only='False', coucash_payback_wow_only='최대 50,000원 적립'}\"\n",
    "\n",
    "# 정규표현식을 사용하여 문자열을 파싱\n",
    "pattern = r'(\\w+)\\s*=\\s*(.*?)(?=\\s*,\\s*\\w+\\s*=|\\s*})'\n",
    "matches = re.findall(pattern, s)\n",
    "\n",
    "# 파싱 결과를 딕셔너리로 저장\n",
    "parsed_dict = {key: value.strip(\"'\") if value.startswith(\"'\") else value for key, value in matches}\n",
    "\n",
    "print(parsed_dict)"
   ]
  },
  {
   "cell_type": "code",
   "execution_count": 19,
   "metadata": {},
   "outputs": [
    {
     "data": {
      "text/plain": [
       "int"
      ]
     },
     "execution_count": 19,
     "metadata": {},
     "output_type": "execute_result"
    }
   ],
   "source": [
    "import re\n",
    "\n",
    "s = \"ResponseDto{id=2, product_name='삼성노트북 한컴오피스 증정 i7 윈도우11 가성비 사무용 대학생 인강용 광시야각 동영상 업무용 노트북추천, 그레이, 코어i7, 512GB, 16GB, WIN11 Home, NT750XGR-A71A', origin_price=1349000.0, discount_price=1189000.0, rocket='False', rating=5.0, card_charge_discount_wow_only='False', coucash_payback_wow_only='최대 50,000원 적립'}\"\n",
    "\n",
    "def parse2(s):\n",
    "    pattern = r'(\\w+)\\s*=\\s*(.*?)(?=\\s*,\\s*\\w+\\s*=|\\s*})'\n",
    "    matches = re.findall(pattern, s)\n",
    "    parsed_dict = {}\n",
    "    for key, value in matches:\n",
    "        try:\n",
    "            parsed_dict[key] = int(value)\n",
    "        except ValueError:\n",
    "            try:\n",
    "                parsed_dict[key] = float(value)\n",
    "            except ValueError:\n",
    "                parsed_dict[key] = value.strip(\"'\")\n",
    "    \n",
    "    return parsed_dict\n",
    "\n"
   ]
  },
  {
   "cell_type": "code",
   "execution_count": 1,
   "metadata": {},
   "outputs": [
    {
     "data": {
      "text/plain": [
       "'2024-05-16'"
      ]
     },
     "execution_count": 1,
     "metadata": {},
     "output_type": "execute_result"
    }
   ],
   "source": [
    "from datetime import datetime\n",
    "datetime.now().date().strftime(\"%Y-%m-%d\")"
   ]
  }
 ],
 "metadata": {
  "kernelspec": {
   "display_name": "BD",
   "language": "python",
   "name": "python3"
  },
  "language_info": {
   "codemirror_mode": {
    "name": "ipython",
    "version": 3
   },
   "file_extension": ".py",
   "mimetype": "text/x-python",
   "name": "python",
   "nbconvert_exporter": "python",
   "pygments_lexer": "ipython3",
   "version": "3.9.0"
  }
 },
 "nbformat": 4,
 "nbformat_minor": 2
}
