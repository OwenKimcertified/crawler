{
 "cells": [
  {
   "cell_type": "code",
   "execution_count": null,
   "metadata": {},
   "outputs": [],
   "source": [
    "import pymongo\n",
    "\n",
    "client = pymongo.MongoClient(\"mongodb://localhost:27017/\")\n",
    "db = client['http_request_meta_data']\n",
    "meta_collection = db['page_meta_data']\n",
    "\n",
    "for doc in meta_collection.find():\n",
    "    print(doc)"
   ]
  },
  {
   "cell_type": "code",
   "execution_count": null,
   "metadata": {},
   "outputs": [],
   "source": [
    "from kafka import KafkaConsumer\n",
    "\n",
    "\n",
    "brokers = [\"localhost:9091\", \"localhost:9092\", \"localhost:9093\"]\n",
    "consumer = KafkaConsumer(\n",
    "    \"put_notebook_topic\",  # subscribe topic\n",
    "    group_id=\"test\",  \n",
    "    bootstrap_servers = brokers, \n",
    "    auto_offset_reset = \"earliest\",  # offset reset\n",
    "    enable_auto_commit = True,  # auto commit active\n",
    "    auto_commit_interval_ms = 1000,  # auto commit interval\n",
    "    fetch_max_bytes = 52428800,  # max byte\n",
    "    max_poll_records = 500,  # max rec\n",
    ")\n",
    "\n",
    "try:\n",
    "    for message in consumer:\n",
    "        print(f\"Received message: {message.value.decode('utf-8')}\") # byte code deserialize\n",
    "except KeyboardInterrupt:\n",
    "    pass\n",
    "finally:\n",
    "    # 컨슈머 종료\n",
    "    consumer.close()"
   ]
  },
  {
   "cell_type": "code",
   "execution_count": 2,
   "metadata": {},
   "outputs": [
    {
     "name": "stdout",
     "output_type": "stream",
     "text": [
      "True\n"
     ]
    }
   ],
   "source": [
    "import redis\n",
    "\n",
    "redis_host = 'localhost'  \n",
    "redis_port = 6379  \n",
    "\n",
    "r = redis.Redis(host = redis_host, port = redis_port, decode_responses = True)\n",
    "print(r.ping())"
   ]
  }
 ],
 "metadata": {
  "kernelspec": {
   "display_name": "BD",
   "language": "python",
   "name": "python3"
  },
  "language_info": {
   "codemirror_mode": {
    "name": "ipython",
    "version": 3
   },
   "file_extension": ".py",
   "mimetype": "text/x-python",
   "name": "python",
   "nbconvert_exporter": "python",
   "pygments_lexer": "ipython3",
   "version": "3.9.0"
  }
 },
 "nbformat": 4,
 "nbformat_minor": 2
}
